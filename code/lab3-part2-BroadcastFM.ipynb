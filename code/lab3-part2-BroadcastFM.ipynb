{
    "cells": [
        {
            "cell_type": "markdown",
            "metadata": {},
            "source": [
                "# Lab 3 Part II - Broadcast FM\n",
                "\n",
                "Originally written by Miki Lustig.\n",
                "<small>\n",
                "    <p>Updated by Drake Lin in Spring 2023.</p>\n",
                "    <p>Updated by Josh Sanz in Spring 2020, Spring 2022.</p>\n",
                "    <p>Updated by Alan Dong in Spring 2021.</p>\n",
                "</small>"
            ]
        },
        {
            "cell_type": "code",
            "execution_count": 1,
            "metadata": {},
            "outputs": [],
            "source": [
                "import numpy as np, matplotlib.pyplot as plt\n",
                "import matplotlib\n",
                "from numpy import *\n",
                "from numpy.fft import *\n",
                "import scipy.signal as signal\n",
                "from matplotlib.pyplot import *\n",
                "from rtlsdr import RtlSdr\n",
                "import scipy\n",
                "import scipy.io\n",
                "from scipy.io.wavfile import write\n",
                "import sounddevice as sd\n",
                "import gc\n",
                "%matplotlib inline"
            ]
        },
        {
            "cell_type": "markdown",
            "metadata": {},
            "source": [
                "Below are some functions from Part I that we will need in this part"
            ]
        },
        {
            "cell_type": "code",
            "execution_count": 2,
            "metadata": {},
            "outputs": [],
            "source": [
                "# set the default card to be the built-in raspberry-pi audio\n",
                "sd.default.device = 'bcm2835 Headphones: - (hw:0,0), ALSA'\n",
                "\n",
                "def sg_plot(t_range, f_range, y, dbf=60, fig=None):\n",
                "    \"\"\"\n",
                "    Plot an image of the spectrogram of y, with the axes labeled with time tl and frequency fl\n",
                "\n",
                "    t_range -- time axis label, nt samples\n",
                "    f_range -- frequency axis label, nf samples\n",
                "    y -- spectrogram, (nf x nt) array\n",
                "    dbf -- dynamic range of the spectrum in dB\n",
                "    \"\"\"\n",
                "    eps = 10.0 ** ( -dbf / 20.0)  # minimum signal\n",
                "    \n",
                "    # find maximum\n",
                "    y_max = abs(y).max()\n",
                "    \n",
                "    # compute 20*log magnitude, scaled to the max\n",
                "    y_log = 20.0 * np.log10((abs(y) / y_max) * (1 - eps) + eps)\n",
                "    \n",
                "    # rescale image intensity to 256\n",
                "    img = 256 * (y_log + dbf) / dbf - 1\n",
                "    if fig is None:\n",
                "        fig = plt.figure(figsize=(16, 6))\n",
                "    plt.imshow(np.flipud(64.0 * (y_log + dbf) / dbf ), extent=t_range  + f_range, cmap=plt.cm.gray, aspect='auto')\n",
                "    plt.xlabel('Time [s]')\n",
                "    plt.ylabel('Frequency [Hz]')\n",
                "    plt.tight_layout()\n",
                "\n",
                "    return fig"
            ]
        },
        {
            "cell_type": "markdown",
            "metadata": {},
            "source": [
                "## Task 5: Time-Frequency plots of the radio-frequency spectrum with the SDR."
            ]
        },
        {
            "cell_type": "markdown",
            "metadata": {},
            "source": [
                "The samples that are obtained by the SDR represent a bandwidth of the spectrum around a center frequency. \n",
                "Hence, when demodulating to baseband (i.e. zero frequency), the signal must be complex since it has an asymmetric Fourier Transform. \n",
                "\n",
                "In this case, we would like to display both sides of the spectrum.\n",
                "\n",
                "* **Modify the function `myspectrogram_hann_ovlp(x,m,fs,fc)` such that it detects whether the input signal `x` is complex.**\n",
                "* **In that case, it will compute a double sided spectrum with frequency range centered around fc (center frequency).** For this, it might be useful to use the commands: `np.isreal` and `fftshift`.\n"
            ]
        },
        {
            "cell_type": "code",
            "execution_count": 3,
            "metadata": {},
            "outputs": [],
            "source": [
                "def myspectrogram_hann_ovlp(x, m, fs, fc, dbf = 60, fig = None):\n",
                "    \"\"\"\n",
                "    Plot the spectrogram of x. If x is complex, plot the two-sided spectrum.\n",
                "    \n",
                "    First take the original signal x and split it into 50% overlapping blocks of length m.\n",
                "    Then apply a Hann window to each block, FFT, and plot.\n",
                "    \"\"\"\n",
                "    # pad x up to a multiple of m \n",
                "    lx = len(x)\n",
                "    nt = (lx + m - 1) // m\n",
                "    x = append(x,zeros(-lx+nt*m))\n",
                "    \n",
                "    # frequency index\n",
                "    t_range = [0.0, lx / fs]\n",
                "    \n",
                "    # Your code here:\n",
                "\n",
                "    # End of your code\n",
                "    return fig"
            ]
        },
        {
            "cell_type": "markdown",
            "metadata": {},
            "source": [
                "### Wideband FM Signal Background\n",
                "We will first look at the spectrum of FM radio. In the US, the broadcast FM radio band is 88.0-108.0 MHz. It is split into 200 kHz wide slots. This is a relatively large bandwidth for FM signals, and therefore it is also called wideband FM as opposed to narrowband FM which can have a bandwidth as low as 5 KHz. In FM radio, the information is encoded by modulating the frequency of the carrier,  \n",
                "\n",
                "$$y_c(t) = A\\cos \\left (2\\pi f_c t + 2\\pi \\Delta f \\int_0^t x(\\tau) d\\tau \\right ).$$\n",
                "\n",
                "Here, $f_c$ is the carrier frequency,  $\\Delta f$ is a frequency deviation scalar and $x(t)$ is a normalized baseband signal, which contains all the information the station wants to broadcast. $\\Delta f$ controls how wide the transmitted bandwidth is, since $x(t)$ is normalized.\n",
                "\n",
                "The instantaneous frequency of a signal is the derivative of the phase. \n",
                "For the signal \n",
                "\n",
                "$$y_c(t) = A\\cos \\left (2\\pi f_c t + 2\\pi \\Delta f \\int_0^t x(\\tau) d\\tau \\right ),$$ \n",
                "\n",
                "the phase is \n",
                "\n",
                "$$\\phi(t) = 2\\pi f_c t + 2\\pi \\Delta f \\int_0^t x(\\tau) d\\tau,$$ \n",
                "\n",
                "and its instantaneous frequency is \n",
                "\n",
                "$$f(t) = \\frac{1}{2\\pi}\\frac{d \\phi}{dt} = f_c + \\Delta f x(t)$$\n",
                "\n",
                "which is exactly the signal we would like to transmit! \n",
                "\n",
                "\n",
                "\n",
                "\n",
                "\n",
                "\n",
                "\n",
                "The signal $x(t)$ is called the baseband signal. It has frequency content spanning from DC to about 100 KHz. This is in contrast to the modulated FM signal which has a bandwidth of 200 KHz (double sided spectrum) and is present at 88-108 MHz. For broadcast FM, the baseband signal includes stereo audio, as well as digital information about the station and sometimes additional narrow-bandwidth subcarrier channels.\n",
                "More specifically, the broadcast FM baseband signal, $x(t)$, consists of a mono (Left+Right) channel from 30 Hz to 15 KHz, a pilot signal at $f_p=19$ KHz, an amplitude modulated stereo (Left-Right) channel around $2\\cdot f_p = 38$ KHz and digital RBDS, which encodes the station information, song name, etc. at $3\\cdot f_p = 57$ KHz. (See <http://en.wikipedia.org/wiki/FM_broadcasting> for more information). \n",
                "\n",
                "The baseband signal is:\n",
                "\n",
                "$ \\qquad \\qquad x(t) = \\underbrace{(L+R)}_{\\mathrm{mono}} + \\underbrace{0.1 \\cdot \\cos(2\\pi f_p t)}_\\mathrm{pilot} +  \\underbrace{(L-R)\\cos(2\\pi (2f_p) t)}_\\mathrm{stereo}  + \\underbrace{0.05\\cdot \\mathrm{RBDS}(t)\\cos(2\\pi (3f_p) t)}_\\mathrm{digital~ RBDS} + \\mathrm{subcarrier~signals}. $\n",
                "\n",
                "The signal $\\mathrm{RBDS}(t)$ is $m(t)\\cos(2\\pi (3 f_p))$ where $m(t)$ is a binary signal consisting of $\\pm1$ at constant intervals which encodes '0' and '1' bits. The subcarriers are often FM modulated signals of foreign stations or carry other information.\n",
                "This is the spectrum of $x(t)$:"
            ]
        },
        {
            "cell_type": "markdown",
            "metadata": {},
            "source": [
                "<center><img src=\"../imgs/FM.png\" alt=\"FM\" style=\"width: 800px;\"/></center>\n",
                "<center>Figure 1: Baseband broadcast FM spectrum</center>"
            ]
        },
        {
            "cell_type": "markdown",
            "metadata": {},
            "source": [
                "We will listen to Berkeley's own KPFA 94.1 MHz station. KPFA's transmitter is located close to Grizzly Peak Road, close to where it meets Claremont Ave.\n",
                "\n",
                "Recall that our SDR does IQ demodulation around a center frequency of choice, $f_d$, followed by a low-pass filter and sampling. This results in a complex digital signal: \n",
                "\n",
                "$$y_b(t) = Ae^{j2\\pi (f_c-f_d) t + j2\\pi \\Delta f \\int_0^t x(\\tau) d\\tau }.$$\n",
                "\n",
                "When $f_d=f_c$ we get:\n",
                "\n",
                "$$y_b(t) = Ae^{ j2\\pi \\Delta f \\int_0^t x(\\tau) d\\tau }.$$"
            ]
        },
        {
            "cell_type": "markdown",
            "metadata": {},
            "source": [
                "### System Implementation\n",
                "\n",
                "We will implement the following system to demodulate and listen to KPFA:\n",
                "<center><img src=\"../imgs/fmdemod_LPR.png\" alt=\"FM\" style=\"width: 800px;\"/></center>\n",
                "<center>Figure 2: Wideband FM demodulation system implementation</center>"
            ]
        },
        {
            "cell_type": "markdown",
            "metadata": {},
            "source": [
                "We will provide details on each of these blocks below, but here's a brief overview:\n",
                "\n",
                "- The SDR will provide samples at a BW of 960 KHz around the station frequency 94.1 MHz.\n",
                "- The station BW is only 200 KHz, so we will create a low-pass filter to reject frequencies higher than $\\pm 100$ KHz, and then decimate by 4 to reach a sampling rate of 240 KHz. \n",
                "- The limiter and the discriminator decode the frequency modulation to get our desired signal. The limiter gets rid of any undesired amplitude variation in the signal, and the discriminator converts frequency modulation into amplitude modulation. More later!\n",
                "- After FM decoding, our desired signal occupies DC - 16 KHz. So we low-pass to reject all frequencies outside the band. Finally, we decimate by 5 to change to a sampling rate that can be played on the soundcard (48 KHz)."
            ]
        },
        {
            "cell_type": "markdown",
            "metadata": {},
            "source": [
                "### Signal Capture:\n",
                "\n",
                "Like always, you will get the best results if you collect samples outside. \n",
                "\n",
                "\n",
                "Task: \n",
                "* **Set the SDR to sample at a center frequency of 94.1 MHz (KPFA) and a rate of 960 KHz. Collect 480000 samples**, which is exactly half a second of data. We acquire only half a second because computing a spectrogram on more data may take a while on the Pi. \n",
                "- **Compute and display a spectrogram with a window of 1024 samples.** What is the spectral and temporal resolution? Explain what you see.\n",
                "\n",
                "Tips:\n",
                "- Don\u2019t forget to play with different dynamic ranges of the spectrogram for best visualization. (40 worked well for us).\n",
                "- Make sure to set the gain of the SDR so the signal is not under/overflowed! This will make a HUGE difference when demodulating."
            ]
        },
        {
            "cell_type": "code",
            "execution_count": 5,
            "metadata": {},
            "outputs": [],
            "source": [
                "fs = 960000\n",
                "fc = 96.1e6\n",
                "sdr = RtlSdr()\n",
                "sdr.sample_rate = fs # sampling rate\n",
                "sdr.center_freq = fc # center frequency\n",
                "# Set the gain\n",
                "# Your code here:\n",
                "\n",
                "# End of your code\n",
                "N_Samples = 480000\n",
                "data = sdr.read_samples(N_Samples) # get samples\n",
                "sdr.close()"
            ]
        },
        {
            "cell_type": "code",
            "execution_count": 6,
            "metadata": {
                "scrolled": false
            },
            "outputs": [],
            "source": [
                "# Plot. Plotting may take a while!\n",
                "fig = #TODO\n"
            ]
        },
        {
            "cell_type": "markdown",
            "metadata": {},
            "source": [
                "If you are having a hard time getting a good signal, your course staff collected 6 seconds of strong signal for you which you can use to test your code. \n",
                "\n",
                "* **When you submit, please submit with your own data collection if possible.**\n",
                "\n",
                "One important difference between this data and the data you will collect is the SDR used has a 12-bit ADC and higher sampling rate (downsampled to match what you receive from the RTL-SDR), compared to 8-bits on your RTL-SDR. This means the ADC can represent up to 24 dB more dynamic range, and the process of downsampling can increase this value further. The limited dynamic range of your SDR means that the strong KPFA main broadcast can swamp the narrow and low power subcarrier signals. You may notice when listening to the audio later in the lab that when the KPFA broadcast is louder the subcarriers are noisier. Having a larger dynamic range means that the subcarriers are better represented in the provided recording and should be clearer when you listen to them."
            ]
        },
        {
            "cell_type": "code",
            "execution_count": 4,
            "metadata": {},
            "outputs": [],
            "source": [
                "data_full = np.load(\"../data/kpfa_12bit.npy\") # 6 seconds of pre-recorded data with 12-bit ADC\n",
                "# data = data_full[0:fs//2] # first 0.5 seconds"
            ]
        },
        {
            "cell_type": "code",
            "execution_count": 8,
            "metadata": {},
            "outputs": [],
            "source": [
                "# Plot. Plotting may take a while!\n",
                "fig = #TODO\n"
            ]
        },
        {
            "cell_type": "markdown",
            "metadata": {},
            "source": [
                "## Task 6: Wideband FM Demodulation"
            ]
        },
        {
            "cell_type": "markdown",
            "metadata": {},
            "source": [
                "### Downsampling:\n",
                "\n",
                "The bandwidth of an FM station is 200 kHz. Since we sampled at 960 kHz, you may be seeing several stations in the spectrogram. KPFA, the station we are interested in is in the middle around 94.1 MHz.  We will need to filter out and select the desired station from the rest of the signals within the spectrum. \n",
                "\n",
                "* **Design an FIR low-pass filter.** \n",
                "* **The filter should have a length of 128 and a cutoff frequency of 100 kHz.** This will select the frequencies between -100 kHz to 100 kHz. \n",
                "* To design the filter, we will **use the function `signal.firwin`** (We will talk more about this filter design technique later in class -- but in essence the function creates a windowed sinc function with the appropriate bandwidth for the given length). \n",
                "\n",
                "Type `signal.firwin?` and execute to get help. \n",
                "\n",
                "    h = signal.firwin(128, 100000.0, nyq=fs/2, window='hanning')\n",
                "\n",
                "* **Plot the double-sided log-scale magnitude frequency response of the filter** (log scale using `plt.semilogy`) by computing a zero-padded FFT to length 1024 and using fftshift. Use kHz as the x-axis units. "
            ]
        },
        {
            "cell_type": "code",
            "execution_count": 9,
            "metadata": {},
            "outputs": [],
            "source": [
                "h = signal.firwin(128,100000.0,nyq=fs/2,window='hanning')\n",
                "H = #TODO\n",
                "w = #TODO\n",
                "\n",
                "# End of your code\n",
                "fig=figure(figsize=(8,2))\n",
                "plt.semilogy(w,abs(H))\n",
                "plt.xlabel('Frequency [kHz]')\n",
                "plt.title('Magnitude frequency response of the low-pass filter')"
            ]
        },
        {
            "cell_type": "markdown",
            "metadata": {},
            "source": [
                "Now,\n",
                "* **Filter the acquired SDR signal with the low-pass filter.** Use the function `numpy.convolve` or `signal.oaconvolve`. \n",
                "* **Plot the spectrogram of the filtered signal.**"
            ]
        },
        {
            "cell_type": "code",
            "execution_count": 147,
            "metadata": {
                "scrolled": false
            },
            "outputs": [],
            "source": [
                "# Your code here:\n",
                "\n"
            ]
        },
        {
            "cell_type": "markdown",
            "metadata": {},
            "source": [
                "#### Decimation\n",
                "In signal processing, the term \"decimation\" is used loosely to refer to either a simple reduction of the sampling rate by keeping every $M$'th sample (decimation by $M$) or the processing of low-pass filtering then sampling rate reduction to prevent aliasing. In this lab we will use the term downsampling for the full filtering and sample reduction process, and decimation to mean keeping every $M$'th sample.\n",
                "\n",
                "As you would expect, if your signal bandwidth is the full Nyquist rate, $f_s/2$, then decimating without low-pass filtering would induce aliasing. However, we just filtered our signal to a bandwidth of 200 kHz from 960, so we can decimate up to a factor of almost 5 without aliasing."
            ]
        },
        {
            "cell_type": "markdown",
            "metadata": {},
            "source": [
                "- **Decimate the signal by a factor of 4** by selecting every 4th sample to get a signal sampled at a rate of 240 kHz. At this point, you have successfully implemented a downsampler through low-pass filtering and decimation! \n",
                "- **Plot the spectrogram with a window size of 512.** Remember to use the new sampling factor `fs/4.0` for the spectrogram.\n",
                "\n",
                "Do you see the rolloff of the low-pass fiter? Is there aliasing?"
            ]
        },
        {
            "cell_type": "code",
            "execution_count": 148,
            "metadata": {},
            "outputs": [],
            "source": [
                "# Your code here:\n",
                "\n"
            ]
        },
        {
            "cell_type": "markdown",
            "metadata": {},
            "source": [
                "At this point you have gone through this processing with half a second of data. We will now acquire a longer segment, which will allow you to appreciate the audio that comes out once we demodulate it.\n",
                "\n",
                "- **Acquire 960000*8 samples**, which is 8 seconds of data.\n",
                "- **Filter and decimate (hence downsample) to the rate of 240 kHz.**\n",
                "- **Plot the spectrogram _of the 1st second_**, i.e., of the first 240000 samples. "
            ]
        },
        {
            "cell_type": "code",
            "execution_count": 5,
            "metadata": {},
            "outputs": [],
            "source": [
                "fs = 960000\n",
                "fc = 94.1e6\n",
                "sdr = RtlSdr()\n",
                "sdr.sample_rate = fs    # sampling rate\n",
                "sdr.center_freq = fc   # center frequency\n",
                "# Set the gain\n",
                "# Your code here:\n",
                "\n",
                "# End of your code"
            ]
        },
        {
            "cell_type": "code",
            "execution_count": 149,
            "metadata": {},
            "outputs": [],
            "source": [
                "N_Samples = 960000 * 8\n",
                "data = sdr.read_samples(N_Samples)   # get samples\n",
                "sdr.close()\n",
                "\n",
                "# save the data to load offline\n",
                "np.save('../data/kpfa_12bit_mine.npy', data)"
            ]
        },
        {
            "cell_type": "code",
            "execution_count": 7,
            "metadata": {},
            "outputs": [],
            "source": [
                "# use own data\n",
                "data = np.load('../data/kpfa_12bit_mine.npy')\n",
                "# use prerecorded data if needed\n",
                "# data = data_full"
            ]
        },
        {
            "cell_type": "code",
            "execution_count": 8,
            "metadata": {},
            "outputs": [],
            "source": [
                "# Filter and decimate using same filter from above\n",
                "def filter_and_decimate(data):\n",
                "    h = #TODO\n",
                "    data_filtered = #TODO\n",
                "    return data_filtered\n",
                "        \n",
                "data_f = filter_and_decimate(data)"
            ]
        },
        {
            "cell_type": "code",
            "execution_count": 9,
            "metadata": {},
            "outputs": [],
            "source": [
                "# Plot spectrogram. This will take a while!\n",
                "fig = #TODO\n"
            ]
        },
        {
            "cell_type": "markdown",
            "metadata": {},
            "source": [
                "### FM Demodulation:\n",
                "\n",
                "The plot does not resemble Fig. 1, the broadcast FM baseband, since it is not yet FM demodulated. We can easily see that the signal is frequency modulated -- because its frequency looks like a time-domain signal of speech or music.\n",
                "\n",
                "The next step we are going to perform is to demodulate the FM signal and look at its spectrogram. For this we need to find the instantaneous frequency as a function of time, which is the time derivative of the phase. Directly computing the phase and then taking the derivative will be sensitive to phase wraps, which we would like to avoid.\n",
                "\n",
                "Instead, we will use a digital implementation of classical FM demodulatation using a _limiter_ followed by a _discriminator_. The limiter makes the input have constant amplitude, and the discriminator converts frequency deviations into amplitude modulation. Just as a comment, implementation of an accurate analog disciminator is very difficult whereas implementing a digital one is quite easy!\n",
                "\n",
                "#### Limiter\n",
                "Recall that \n",
                "\n",
                "$$y_b(t) = A(t)e^{ j2\\pi (f_c-f_d) t + j2\\pi \\Delta f \\int_0^t x(\\tau) d\\tau }.$$ \n",
                "\n",
                "The leading coefficient $A(t)$ is some unwanted amplitude modulation, which can be a result of signal fading, noise, or other sources of signal variations. The role of the limiter component in an FM radio is to remove this amplitude modulation so the discriminator will only be sensitive to frequency variations. \n",
                "\n",
                "In the digital domain, implementing a limiter is done by simply dividing our signal elementwise by its amplitude. \n",
                "\n",
                "- **Apply a limiter to your signal.** To avoid dividing by 0, divide your signal by its amplitude plus $\\epsilon$. $\\epsilon = 10^{-6}$ is adequate. \n",
                "\n",
                "\n"
            ]
        },
        {
            "cell_type": "code",
            "execution_count": 10,
            "metadata": {},
            "outputs": [],
            "source": [
                "# Apply the limiter\n",
                "def limiter(data_f):\n",
                "    data_f = #TODO\n",
                "    return data_f\n",
                "data_f = limiter(data_f)"
            ]
        },
        {
            "cell_type": "markdown",
            "metadata": {},
            "source": [
                "#### Discriminator\n",
                "Assuming that $f_c=f_d$, after the limiter our signal is \n",
                "\n",
                "$$ y_b(t)=e^{ j2\\pi \\Delta f \\int_0^t x(\\tau) d\\tau }.$$ \n",
                "\n",
                "To get $x(t)$ we can compute:\n",
                "\n",
                "$$\\left(\\frac{d}{dt}y_b(t)\\right)y_b^*(t) = j2\\pi\\Delta f \\cdot x(t)\\cdot e^{ j2\\pi \\Delta f \\int_0^t x(\\tau) d\\tau }\\cdot e^{  -j2\\pi \\Delta f \\int_0^t x(\\tau) d\\tau } = j2\\pi\\Delta f \\cdot x(t),$$\n",
                "\n",
                "which gives us our desired signal when we take the imaginary part of the result. Notice that we mutltiply the differentiated signal $y_b'(t)$ by the complex conjugate of the original $y_b^*(t)$.\n",
                "\n",
                "We will need to design a differentiator filter whose frequency response approximates the ideal frequency response, \n",
                "\n",
                "$$H_{diff}(e^{j\\omega}) = \\omega,$$\n",
                "\n",
                "of a differentiator. Since we are only going to demodulate up to 105 kHz, we can allow the differentiator to roll off to zero after that.\n",
                "\n",
                "- **Design an FIR differentiator filter with length 31 using the function `signal.remez`** which implements an equi-ripple min-max optimal filter design technique. It requires prescribing frequency bands and their corresponding frequency responses. We need to tell the function that it's a differentiator so it knows to match a linear frequency response within the band of interest. We will prescribe a linear frequency extending from 0-105 kHz and then tapering to zero at the Nyquist frequency 120 kHz. As we will learn later in class, since the filter is of even order (odd number of coefficients) and is antisymmetric, its Nyquist frequency must be zero!\n",
                "\n",
                "Type `signal.remez?` for more information.\n",
                "\n",
                "Specifically: \n",
                "\n",
                "    h_diff = signal.remez(31, [0.0,105000.0,120000.0,120000.0], [1.05/1.2,0], Hz=240000.0, type='differentiator')\n",
                "    \n",
                "will try to design a linear frequency response from 0-105000 Hz and zero amplitude at 120000 Hz.\n",
                "\n",
                "- **Plot the filter and its two sided magnitude frequency response (linear scale, compute a zero-padded FFT to length 1024 and use fftshift).**\n"
            ]
        },
        {
            "cell_type": "code",
            "execution_count": 11,
            "metadata": {},
            "outputs": [],
            "source": [
                "h_diff = signal.remez(31, [0.0,105000.0,120000.0,120000.0], [1.05/1.2,0], Hz=240000.0, type='differentiator')\n",
                "\n",
                "# Compute the magnitude spectrum and plot both time and frequency domains.\n",
                "\n",
                "H_diff = #TODO\n",
                "w = #TODO\n",
                "\n",
                "fig=figure(figsize=(16,2))\n",
                "plt.stem(h_diff)\n",
                "plt.xlabel('n')\n",
                "plt.title('Impulse response of the differentiator filter')\n",
                "\n",
                "fig=figure(figsize=(16,2))\n",
                "plt.plot(w,abs(H_diff))\n",
                "plt.xlabel('Frequency [kHz]')\n",
                "plt.title('Magnitude frequency response of the differentiator filter')"
            ]
        },
        {
            "cell_type": "markdown",
            "metadata": {},
            "source": [
                "Now, finish demoulating the FM signal:\n",
                "- **Filter the signal with the differentiator**\n",
                "- **Multiply the result with the conjugate of the original signal**\n",
                "- **Take the imaginary component**\n",
                "\n",
                "Note that the default implementation of `np.convolve` will have a delay of 16 samples with respect to the original signal. **To avoid that, use the option `mode='same'`.**"
            ]
        },
        {
            "cell_type": "code",
            "execution_count": 12,
            "metadata": {},
            "outputs": [],
            "source": [
                "# Finish demodulating the signal\n",
                "def freq_demod(data_f, h_diff):\n",
                "    demod = #TODO\n",
                "    return demod\n",
                "demod = freq_demod(data_f, h_diff)"
            ]
        },
        {
            "cell_type": "markdown",
            "metadata": {},
            "source": [
                "Note that after FM demodulation the signal should be real (by taking only the imaginary component) and hence only half the spectrum should be displayed.\n",
                "\n",
                "- **Plot the spectrogram of the frequency demodulated signal and identify the mono audio, the pilot, the stereo and the RBDS signals.** Note that the RBDS signal may be too weak to detect or may need better spectral resolution."
            ]
        },
        {
            "cell_type": "code",
            "execution_count": 13,
            "metadata": {},
            "outputs": [],
            "source": [
                "# Plot the demodulated baseband signal\n",
                "fig = #TODO\n"
            ]
        },
        {
            "cell_type": "markdown",
            "metadata": {},
            "source": [
                "If you're using your own data, let's display the sampled data to **help identify the subcarriers**. "
            ]
        },
        {
            "cell_type": "code",
            "execution_count": 14,
            "metadata": {},
            "outputs": [],
            "source": [
                "data_full = np.load(\"../data/kpfa_12bit.npy\")\n",
                "demod_sample = freq_demod(limiter(filter_and_decimate(data_full)), h_diff)\n",
                "fig = #TODO\n"
            ]
        },
        {
            "cell_type": "markdown",
            "metadata": {},
            "source": [
                "### Play the mono  (Left  + Right Channel)\n",
                "\n",
                "The mono signal covers the frequency range of 30 Hz - 16 kHz. However, there are many other signals present. There's another problem. Our sampled signal is at a rate of 240 kHz. The soundcard on most modern computers can only deal with a sampling rate of 48 kHz. Similar to the downsampling operation we did before, we must filter our signal and decimate it before we will be able to play it.\n",
                "\n",
                "- **Design a 129-length FIR bandpass filter with a cutoff frequency of 16 kHz** using the command:\n",
                "\n",
                "    h = signal.firwin(129,16000.0,nyq=240000.0/2,window='hanning')\n",
                "\n",
                "- **Filter the signal and decimate by a factor of 5** to reduce the rate to 48 kHz. \n",
                "- **Store the result in the a variable called `LPR`** (Left + Right). \n",
                "- **Display the spectrogram of `LPR`.** Use a window length of 256. "
            ]
        },
        {
            "cell_type": "code",
            "execution_count": 15,
            "metadata": {},
            "outputs": [],
            "source": [
                "# Your code here:\n",
                "\n"
            ]
        },
        {
            "cell_type": "markdown",
            "metadata": {},
            "source": [
                "#### Playing the Mono (Left + Right channel)\n",
                "\n",
                "- **Normalize `LPR`** so it is in the range between -1 and 1. \n",
                "- **Play it.**\n",
                "\n",
                "Do you hear radio?\n",
                "\n"
            ]
        },
        {
            "cell_type": "code",
            "execution_count": 16,
            "metadata": {},
            "outputs": [],
            "source": [
                "# Your code here:\n",
                "\n"
            ]
        },
        {
            "cell_type": "code",
            "execution_count": 17,
            "metadata": {},
            "outputs": [],
            "source": [
                "# Write to wav file\n",
                "# write('../data/fm_LPR.wav', 48000, LPR)"
            ]
        },
        {
            "cell_type": "markdown",
            "metadata": {},
            "source": [
                "## Task 7: Demodulating the subcarriers\n",
                "\n",
                "There are two other signals in the spectrum, centered at 67.65 kHz and 92 kHz. These are subsidiary communications authorization (SCA) services. The FCC specifically doesn't regulate the FM band from 57 kHz up to 100 kHz, only requiring that whatever you transmit there doesn't interfere with the principle FM signal. For a long time, this extra spectrum was used for Muzak (a generic name for elevator music), and other targeted FM signals. This has become less common with the advent of the internet, but there are still stations that use these channels. KPFA transmits a Hatian-French subchannel at 67.65 kHz, and a Punjabi subchannel at 92 kHz.\n",
                "\n",
                "Oddly enough, the subchannels themselves are FM encoded. This is like Russian Matryoshka dolls, with one inside another. Fortunately, you have all the tools you need to decode these signals! \n",
                "\n",
                "In order to listen to the subcarriers, first demodulate the subcarrier to baseband. Then low-pass to separate it from the other signals. Then, downsample it to 48 kHz, and finally frequency demodulate again using the technique described above.\n",
                "\n",
                "The entire system is described in the following diagram:\n",
                "\n",
                "<center><img src=\"../imgs/fmdemod_sc.png\" alt=\"FM\" style=\"width: 800px;\"/></center>\n",
                "<center>Figure 3: Subcarrier demodulation system implementation</center>"
            ]
        },
        {
            "cell_type": "markdown",
            "metadata": {},
            "source": [
                "To demodulate the subcarrier to baseband, or zero frequency, we will need to:\n",
                "\n",
                "* **Create a time index `t` representing the samples of the signal.**\n",
                "* **Multiply the frequency demodulated signal in Task 6 with $e^{-j 2\\pi f_0 t}$.**\n",
                "* After shifting the frequency demodulated signal in Task 6 by $f_0=67.65$ kHz, **plot the spectrogram.** Since the signal is now complex, you should plot both sides of the spectrum. The subcarrier should be placed at the DC frequency."
            ]
        },
        {
            "cell_type": "markdown",
            "metadata": {},
            "source": [
                "Based on our experience, subcarrier 1 (Radio Papaya aka French Haitian) is down, but the Punjabi Radio is still broadcasting. Thus, if you want to demodulate both subcarriers use the recorded data, else feel free to use your own data, there will just be static for subcarrier 1."
            ]
        },
        {
            "cell_type": "code",
            "execution_count": 18,
            "metadata": {},
            "outputs": [],
            "source": [
                "# your data\n",
                "data = np.load('../data/kpfa_12bit_mine.npy')\n",
                "\n",
                "# recorded data\n",
                "# data = np.load(\"../data/kpfa_12bit.npy\")\n",
                "# demod = freq_demod(limiter(filter_and_decimate(data_full)))"
            ]
        },
        {
            "cell_type": "code",
            "execution_count": 19,
            "metadata": {},
            "outputs": [],
            "source": [
                "t = #TODO\n",
                "subc1 = #TODO\n",
                "fig = myspectrogram_hann_ovlp(subc1, 256, fs/4.0, 0, dbf=40)"
            ]
        },
        {
            "cell_type": "markdown",
            "metadata": {},
            "source": [
                "To frequency demodulate, you will need to apply a limiter as before. The discriminator should be implemented in the same way as before. However, you need to design a new filter which approximates a differentiator between $\\pm$8 kHz and then tapers to zero. Here's an example:\n",
                "\n",
                "    h_diff = signal.remez(31, [0.0,8000.0,12000.0,24000], [8.0/24.0,0], Hz=48000, type='differentiator')\n",
                "    \n",
                "- **Design a 129-tap low-pass filter with a bandwidth of $\\pm 6$ kHz in the passband.**\n",
                "- **Filter the signal and decimate by a factor of 5** to get a signal with a sampling rate of 48 kHz. \n",
                "- **Plot the spectrogram** (make sure you adjust the spectrogram to represent the new sampling rate!). \n",
                "- **Perform the limiter operation.**\n",
                "- **Apply the discriminator using the differentiator filter method.**\n",
                "- **Low-pass the result with a 129-length FIR filter with cutoff of 5 kHz** to eliminate any residual high frequency noise. Don't forget that the sample rate is 48 kHz!\n",
                "- **Scale the result to be within $\\pm1$ and play the audio.**\n",
                "- **Plot the spectrogram of the resulting signal.**\n",
                "\n",
                "Can you hear French Hatian? "
            ]
        },
        {
            "cell_type": "code",
            "execution_count": 20,
            "metadata": {},
            "outputs": [],
            "source": [
                "def demod_subcarrier(subc):\n",
                "    # this function decodes a subcarrier\n",
                "    \n",
                "    # filter and downsample by 5\n",
                "    h = #TODO\n",
                "    subc = #TODO\n",
                "    fig = myspectrogram_hann_ovlp(subc1, 256, 48000, 0, dbf=20)\n",
                "\n",
                "    h_diff = signal.remez(31, [0.0,8000.0,16000.0,24000], [8.0/24,0], Hz=48000, type='differentiator')\n",
                "    subc = limiter(subc)\n",
                "    subc_demod = freq_demod(subc, h_diff)\n",
                "\n",
                "    # low pass filter\n",
                "    h = #TODO\n",
                "    subc_demod = #TODO\n",
                "\n",
                "    fig = myspectrogram_hann_ovlp(subc_demod, 128, 48000, 0, dbf=30)\n",
                "\n",
                "    return subc_demod/max(subc_demod)\n",
                "\n",
                "# write('../data/fm_sc.wav', 48000, subc1_demod)"
            ]
        },
        {
            "cell_type": "code",
            "execution_count": 21,
            "metadata": {},
            "outputs": [],
            "source": [
                "subc1_demod = demod_subcarrier(subc1)\n",
                "sd.play(subc1_demod,48000,blocking=True)"
            ]
        },
        {
            "cell_type": "markdown",
            "metadata": {},
            "source": [
                "Repeat the procedure to play the subcarrier (Punjabi channel) at $f_0=92$ kHz"
            ]
        },
        {
            "cell_type": "code",
            "execution_count": 22,
            "metadata": {},
            "outputs": [],
            "source": [
                "t = #TODO\n",
                "subc2 = #TODO\n",
                "fig = myspectrogram_hann_ovlp(subc2, 1024, fs, 0, dbf=30)\n",
                "\n",
                "subc2_demod = demod_subcarrier(subc2)\n",
                "sd.play(subc2_demod,48000,blocking=True)\n",
                "\n",
                "# write('fm_sc2.wav', 48000, subc2_demod)"
            ]
        },
        {
            "cell_type": "markdown",
            "metadata": {},
            "source": [
                "In order to listen to the radio continuously, you would have to implement stream processing using a double buffer. The SDR would fill one buffer while your code demodulates the other one. Of course, you would need to process the data faster than the samples come in. Finally, you would also have to implement an overlapp and save/add approach for streaming convolutions so that the sound will not have interruptions or artifacts at the edges of the buffers.\n",
                "\n",
                "Unfortunately, this is hard to implement using python on the Raspberry Pi because of inefficiencies in the way numpy uses memory. We will do more stream processing when we get to Lab 5."
            ]
        },
        {
            "cell_type": "markdown",
            "metadata": {},
            "source": [
                "## Task 8: Streaming FM audio"
            ]
        },
        {
            "cell_type": "markdown",
            "metadata": {},
            "source": [
                "### CSDR\n",
                "Fortunately, there are many people who are passionate about using low cost hardware to play with radio signals.  Andr\u00e1s Retzler (HA7ILM) created a website called [OpenWebRx](SDR.hu) which lets you view the spectrum at a receiver anywhere in the world over an internet connection. To help demodulate audio he wrote a lightweight but fast signal processing library called CSDR which works by connecting processing blocks sequentially via Unix pipes.\n",
                "\n",
                "We will use CSDR to perform the same signal processing as above to demodulate an FM broadcast, but fast enough to sustain a (mostly) uninterrupted stream. You may wish to look at the readme on the [GitHub page](https://github.com/ha7ilm/csdr) to get an idea of how this works."
            ]
        },
        {
            "cell_type": "markdown",
            "metadata": {},
            "source": [
                "##### Aside: Running shell commands from Jupyter\n",
                "\n",
                "It is possible to run shell (terminal / command line) commands from a Jupyter notebook with a Python kernel by putting \"!\" in front of the command. For example,\n",
                "```\n",
                "!ls\n",
                "```\n",
                "would run `ls` and display the result as the output of the cell.\n",
                "\n",
                "If your shell command is taking too long, or runs forever until interrupted, you can send an interrupt to the process by clicking the \"interrupt the kernel\" button (black square) in the toolbar above."
            ]
        },
        {
            "cell_type": "code",
            "execution_count": null,
            "metadata": {},
            "outputs": [],
            "source": [
                "!ls"
            ]
        },
        {
            "cell_type": "markdown",
            "metadata": {},
            "source": [
                "### Step 1: Acquire samples and decimate to 240 kHz\n",
                "\n",
                "The support library for the RTL-SDR dongles that we are using includes a utility for streaming samples to a file or to `stdout` which allows us to stream data into CSDR. The command we will use is\n",
                "```\n",
                "rtl_sdr -s 960000 -f 94100000 -g 0 -n 960000 -\n",
                "```\n",
                "This command sets the sampling rate to 960 kHz, the center frequency to 94.1 MHz, and uses an automatic gain controller to set the gain based on the signal level. You can also set the gain parameter to whatever you found works best in your code above. The flag `-n 960000` tells the SDR to collect 960000 samples, or 1 second of data. This is useful for debugging your implementation. **For the final streaming radio playback you will want to use `-n 0` or no `-n` flag at all to tell the SDR to stream indefinitely.**\n",
                "\n",
                "Once we have a stream of samples, we have to convert them from uint8_t to floats. We do this with \n",
                "```\n",
                "csdr convert_u8_f\n",
                "```\n",
                "\n",
                "The next step in the process is to downsample to 240 kHz as above. CSDR has a command which applies a windowed low-pass filter then decimates called `fir_decimate_cc`. It takes three parameters defining the decimation rate, transition bandwidth (in the range 0-0.5), and window to apply (BLACKMAN, HAMMING, or BOX). \n",
                "\n",
                "You can downsample an IQ stream by a factor of, for example, 10 by piping the `rtl_sdr` process together with the downsampler:\n",
                "```\n",
                "rtl_sdr -s 960000 -f 94100000 -g 0 -n 960000- | csdr convert_u8_f | csdr fir_decimate_cc 10 .05 HAMMING\n",
                "```\n",
                "\n",
                "Remember that we want to downsample by 4. You can test whether you are using the correct settings by writing the output of the downsampler to a file, then reading the file and running the rest of your demodulation code on the contents of the file.\n",
                "\n",
                "* **Write one second of downsampled data to a file called `downsample.bin`.**\n",
                "* **Downsample by 4 with 0.05 transition bandwidth and a Hamming window.**"
            ]
        },
        {
            "cell_type": "code",
            "execution_count": 50,
            "metadata": {},
            "outputs": [],
            "source": [
                "# Write to file\n",
                "# !rtl_sdr -s 960000 -f 94100000 -g 0 -n 960000 - | csdr convert_u8_f | csdr fir_decimate_cc <rate> <f_cutoff> <window> > downsample.bin\n",
                "# Your code here:\n",
                "\n"
            ]
        },
        {
            "cell_type": "code",
            "execution_count": 32,
            "metadata": {},
            "outputs": [],
            "source": [
                "# Plot the spectrogram of the recording (first second)\n",
                "# CSDR sets the cutoff frequency to exactly the downsampled Nyquist frequency, \n",
                "# so there will be at most a slight reduction in energy near the edges.\n",
                "d_csdr = np.fromfile(\"downsample.bin\", dtype=np.complex64)\n",
                "fig = myspectrogram_hann_ovlp(d_csdr, 512, 240000, fc, dbf=40)"
            ]
        },
        {
            "cell_type": "markdown",
            "metadata": {},
            "source": [
                "### Step 2: FM demodulate\n",
                "After downsampling, we again want to demodulate. CSDR accomplishes this with a block called `fmdemod_quadri_cf`. This blocks uses a related, but slightly simpler method for demodulation. In order to extract the instantaneous phase of the signal, the demodulator calculates the phase of each sample then uses the previous sample to approximate the rate of change of phase.\n",
                "\n",
                "Look at the [source](https://github.com/ha7ilm/csdr/blob/master/libcsdr.c) line 1024 for the implementation. [https://www.embedded.com/dsp-tricks-frequency-demodulation-algorithms/] has a derivation of how $\\frac{d}{dt}\\left(\\tan^{-1}\\left(\\frac{Q(t)}{I(t)}\\right)\\right)$ becomes the code that you see.\n",
                "\n",
                "When comparing to the differentation (discriminator) you implemented above, notice how your discriminator uses 31 taps but the CSDR code only uses 2. Using fewer taps makes implementing the algorithm easier and more efficient, but the quality of the output is degraded more by noise, since there is no smoothing across multiple samples. This is a tradeoff that occurs over and over again in real systems - implementation ease and efficiency versus performance of the processing algorithm.\n",
                "\n",
                "* **Store the output of the demodulator to `demodulate.bin` and plot the spectrogram.**"
            ]
        },
        {
            "cell_type": "code",
            "execution_count": 52,
            "metadata": {},
            "outputs": [],
            "source": [
                "# Your beautiful command\n",
                "# !TODO > demodulate.bin\n",
                "# Your code here:\n",
                "\n"
            ]
        },
        {
            "cell_type": "code",
            "execution_count": 31,
            "metadata": {},
            "outputs": [],
            "source": [
                "# Plot the spectrogram of the recording (first second)\n",
                "# You should see the audio and the 19 kHz pilot tones, and possibly the subcarriers.\n",
                "d_csdr = np.fromfile(\"demodulate.bin\", dtype=np.float32)\n",
                "fig = myspectrogram_hann_ovlp(d_csdr, 512, 240000, 0, dbf=40)"
            ]
        },
        {
            "cell_type": "markdown",
            "metadata": {},
            "source": [
                "Now we again downsample to the mono audio stream to reach 48 kHz for the audio card. This time, because the sample stream is real, we use the `fractional_decimator_ff` command which takes a single argument, the decimation (downsampling) rate. \n",
                "\n",
                "* **Downsample by a factor of 5 using `fractional_decimator_ff`, save to `audio_f.bin`, and plot the spectrogram.**"
            ]
        },
        {
            "cell_type": "code",
            "execution_count": 113,
            "metadata": {},
            "outputs": [],
            "source": [
                "# Your beautiful command\n",
                "# !TODO > audio_f.bin\n",
                "# Your code here:\n",
                "\n"
            ]
        },
        {
            "cell_type": "code",
            "execution_count": 30,
            "metadata": {
                "scrolled": true
            },
            "outputs": [],
            "source": [
                "# Plot the spectrogram of the recording (first second)\n",
                "d_csdr = np.fromfile(\"audio_f.bin\", dtype=np.float32)\n",
                "fig = myspectrogram_hann_ovlp(d_csdr, 512, 48000, 0, dbf=40)"
            ]
        },
        {
            "cell_type": "markdown",
            "metadata": {},
            "source": [
                "### Step 3: Play the audio\n",
                "Finally, we output the stream of samples as signed 16-bit ints to the soundcard.\n",
                "```\n",
                "!<your demodulation commands> | csdr convert_f_s16 | aplay -t raw -r 48000 -f s16_le -c 1 -D hw:0,0\n",
                "```\n",
                "Don't forget to change the n-samples flag to infinite: `-n 0`."
            ]
        },
        {
            "cell_type": "code",
            "execution_count": 29,
            "metadata": {
                "scrolled": false
            },
            "outputs": [],
            "source": [
                "# Your audio streaming command\n",
                "# Your code here:\n",
                "\n"
            ]
        },
        {
            "cell_type": "code",
            "execution_count": null,
            "metadata": {},
            "outputs": [],
            "source": []
        }
    ],
    "metadata": {
        "kernelspec": {
            "display_name": "Python 3",
            "language": "python",
            "name": "python3"
        },
        "language_info": {
            "codemirror_mode": {
                "name": "ipython",
                "version": 3
            },
            "file_extension": ".py",
            "mimetype": "text/x-python",
            "name": "python",
            "nbconvert_exporter": "python",
            "pygments_lexer": "ipython3",
            "version": "3.7.3"
        },
        "toc": {
            "base_numbering": 1,
            "nav_menu": {},
            "number_sections": true,
            "sideBar": true,
            "skip_h1_title": false,
            "title_cell": "Table of Contents",
            "title_sidebar": "Contents",
            "toc_cell": false,
            "toc_position": {},
            "toc_section_display": true,
            "toc_window_display": false
        }
    },
    "nbformat": 4,
    "nbformat_minor": 1
}